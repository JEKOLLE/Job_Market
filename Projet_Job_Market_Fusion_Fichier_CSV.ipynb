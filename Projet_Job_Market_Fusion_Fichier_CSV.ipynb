{
 "cells": [
  {
   "cell_type": "code",
   "execution_count": 1,
   "id": "aacfe688",
   "metadata": {},
   "outputs": [
    {
     "name": "stdout",
     "output_type": "stream",
     "text": [
      "Nombre de lignes dans cleaned_offres_emploi.csv: 19334\n",
      "Nombre de lignes dans cleaned_offres_emploi_v2.csv: 19334\n",
      "Nombre de lignes après la fusion: 38668\n",
      "Nombre de doublons: 19334\n",
      "Nombre final de lignes après suppression des doublons: 19334\n",
      "Nombre de valeurs manquantes par colonne :\n",
      "Title          0\n",
      "Company        0\n",
      "Description    0\n",
      "Date           0\n",
      "Address        0\n",
      "Salary         0\n",
      "Link           0\n",
      "dtype: int64\n",
      "Les données nettoyées ont été sauvegardées dans fusion_cleaned_offres_emploi.csv\n"
     ]
    }
   ],
   "source": [
    "import pandas as pd\n",
    "\n",
    "# Chemin des fichiers CSV\n",
    "file_paths = [\n",
    "    'cleaned_offres_emploi.csv',\n",
    "    'cleaned_offres_emploi_v2.csv'\n",
    "]\n",
    "\n",
    "# Liste pour stocker les DataFrames des fichiers CSV\n",
    "df_list = []\n",
    "\n",
    "# Charger chaque fichier CSV et ajouter le DataFrame à la liste\n",
    "for file_path in file_paths:\n",
    "    with open(file_path, 'r', encoding='utf-8') as file:\n",
    "        df = pd.read_csv(file)\n",
    "        df_list.append(df)\n",
    "        print(f\"Nombre de lignes dans {file_path}: {len(df)}\")\n",
    "\n",
    "# Fusionner les DataFrames en un seul\n",
    "df = pd.concat(df_list, ignore_index=True)\n",
    "\n",
    "# Afficher le nombre de lignes après la fusion\n",
    "print(f\"Nombre de lignes après la fusion: {len(df)}\")\n",
    "\n",
    "# Identifier et afficher le nombre de doublons\n",
    "duplicates = df.duplicated()\n",
    "num_duplicates = duplicates.sum()\n",
    "print(f\"Nombre de doublons: {num_duplicates}\")\n",
    "\n",
    "# Supprimer les doublons\n",
    "df_cleaned = df.drop_duplicates()\n",
    "\n",
    "# Afficher le nombre final de lignes après suppression des doublons\n",
    "print(f\"Nombre final de lignes après suppression des doublons: {len(df_cleaned)}\")\n",
    "\n",
    "# Afficher le nombre de valeurs manquantes par colonne\n",
    "missing_values = df_cleaned.isnull().sum()\n",
    "print(\"Nombre de valeurs manquantes par colonne :\")\n",
    "print(missing_values)\n",
    "\n",
    "# Sauvegarder le DataFrame nettoyé dans un nouveau fichier CSV\n",
    "output_path = 'fusion_cleaned_offres_emploi.csv'\n",
    "df_cleaned.to_csv(output_path, index=False)\n",
    "\n",
    "print(f\"Les données nettoyées ont été sauvegardées dans {output_path}\")"
   ]
  },
  {
   "cell_type": "code",
   "execution_count": null,
   "id": "e05b6189",
   "metadata": {},
   "outputs": [],
   "source": []
  }
 ],
 "metadata": {
  "kernelspec": {
   "display_name": "Python 3 (ipykernel)",
   "language": "python",
   "name": "python3"
  },
  "language_info": {
   "codemirror_mode": {
    "name": "ipython",
    "version": 3
   },
   "file_extension": ".py",
   "mimetype": "text/x-python",
   "name": "python",
   "nbconvert_exporter": "python",
   "pygments_lexer": "ipython3",
   "version": "3.10.9"
  }
 },
 "nbformat": 4,
 "nbformat_minor": 5
}
