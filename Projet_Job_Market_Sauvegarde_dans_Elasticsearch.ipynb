{
 "cells": [
  {
   "cell_type": "code",
   "execution_count": null,
   "id": "1ede9397",
   "metadata": {},
   "outputs": [],
   "source": [
    "import pandas as pd\n",
    "from elasticsearch import Elasticsearch, helpers\n",
    "\n",
    "# Chemin vers le fichier CSV contenant les données des offres d'emploi\n",
    "csv_file_path = 'cleaned_offres_emploi.csv'\n",
    "\n",
    "# Lire le fichier CSV dans un DataFrame pandas\n",
    "df = pd.read_csv(csv_file_path)\n",
    "\n",
    "# Configuration avancée de la connexion à Elasticsearch\n",
    "# Spécifie plusieurs nœuds Elasticsearch pour la redondance et l'équilibrage de charge\n",
    "es = Elasticsearch([\n",
    "    {'host': 'localhost', 'port': 9200, 'scheme': 'http'}\n",
    "#     {'host': 'localhost', 'port': 9201, 'scheme': 'http'},\n",
    "])\n",
    "\n",
    "# Nom de l'index dans Elasticsearch où les données seront stockées\n",
    "index_name = 'offres_emploi'\n",
    "\n",
    "# Fonction pour générer les actions de bulk indexing pour Elasticsearch\n",
    "# Cela permet d'indexer les documents en utilisant le helper bulk de la bibliothèque Elasticsearch\n",
    "def generate_actions(dataframe):\n",
    "    for index, row in dataframe.iterrows():\n",
    "        # Générer une action pour chaque ligne du DataFrame\n",
    "        yield {\n",
    "            \"_index\": index_name,   # Nom de l'index\n",
    "#             \"_id\": index,           # ID du document (utilise l'index du DataFrame)\n",
    "            \"_source\": row.to_dict() # Contenu du document sous forme de dictionnaire\n",
    "        }\n",
    "\n",
    "# Utiliser l'helper bulk pour indexer les données dans Elasticsearch\n",
    "# Cela envoie les données en vrac pour optimiser les performances\n",
    "helpers.bulk(es, generate_actions(df))\n",
    "\n",
    "# Message de confirmation une fois les données importées avec succès\n",
    "print(\"Données importées avec succès dans Elasticsearch\")\n"
   ]
  }
 ],
 "metadata": {
  "kernelspec": {
   "display_name": "Python 3 (ipykernel)",
   "language": "python",
   "name": "python3"
  },
  "language_info": {
   "codemirror_mode": {
    "name": "ipython",
    "version": 3
   },
   "file_extension": ".py",
   "mimetype": "text/x-python",
   "name": "python",
   "nbconvert_exporter": "python",
   "pygments_lexer": "ipython3",
   "version": "3.10.9"
  }
 },
 "nbformat": 4,
 "nbformat_minor": 5
}
